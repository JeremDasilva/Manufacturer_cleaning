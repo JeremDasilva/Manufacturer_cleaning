{
 "cells": [
  {
   "cell_type": "markdown",
   "metadata": {},
   "source": [
    "We assume that we sill start with the working copy"
   ]
  },
  {
   "cell_type": "code",
   "execution_count": 2,
   "metadata": {},
   "outputs": [],
   "source": [
    "#Importing libraries\n",
    "import pandas as pd\n",
    "import re\n",
    "import datetime"
   ]
  },
  {
   "cell_type": "code",
   "execution_count": 3,
   "metadata": {},
   "outputs": [
    {
     "name": "stdout",
     "output_type": "stream",
     "text": [
      "2024-08-15\n"
     ]
    }
   ],
   "source": [
    "today_date = datetime.date.today()\n",
    "print(today_date)"
   ]
  },
  {
   "cell_type": "code",
   "execution_count": 4,
   "metadata": {},
   "outputs": [],
   "source": [
    "def clean_special_and_split(text):\n",
    "    \n",
    "    #Checking if str, if not making it str\n",
    "    if not isinstance(text, str):\n",
    "        text = str(text)\n",
    "        \n",
    "    #Replacing - and + by space\n",
    "    text = text.replace('-', ' ').replace('+', ' ')\n",
    "    \n",
    "    #Removing all but dots between letters\n",
    "    text_cleaned = re.sub(r'[^a-zA-Z0-9.\\s]', '', text)\n",
    "    \n",
    "    #Replacing dots between letters by space\n",
    "    text_cleaned = re.sub(r'(?<=\\w)\\.(?=\\w)', ' ', text_cleaned)\n",
    "    \n",
    "    text_cleaned = text_cleaned.upper()\n",
    "    words = text_cleaned.split()\n",
    "    \n",
    "    return words"
   ]
  },
  {
   "cell_type": "code",
   "execution_count": 5,
   "metadata": {},
   "outputs": [],
   "source": [
    "def compare_cells(row):\n",
    "    a = clean_special_and_split(row['Manufacturer_implementation_clean'])\n",
    "    b = clean_special_and_split(row['Manufacturer_client_clean'])\n",
    "    if any(word in a for word in b):\n",
    "        return 1\n",
    "    else:\n",
    "        return 0"
   ]
  },
  {
   "cell_type": "code",
   "execution_count": 6,
   "metadata": {},
   "outputs": [
    {
     "name": "stderr",
     "output_type": "stream",
     "text": [
      "C:\\Users\\misol\\AppData\\Local\\Temp\\ipykernel_15164\\1927256225.py:3: SettingWithCopyWarning: \n",
      "A value is trying to be set on a copy of a slice from a DataFrame\n",
      "\n",
      "See the caveats in the documentation: https://pandas.pydata.org/pandas-docs/stable/user_guide/indexing.html#returning-a-view-versus-a-copy\n",
      "  df_client.rename(columns = {\"Item  Code\" : \"Item_code\", \"Manufacturer\" : \"Manufacturer_implementation\"}, inplace= True)\n"
     ]
    },
    {
     "data": {
      "text/html": [
       "<div>\n",
       "<style scoped>\n",
       "    .dataframe tbody tr th:only-of-type {\n",
       "        vertical-align: middle;\n",
       "    }\n",
       "\n",
       "    .dataframe tbody tr th {\n",
       "        vertical-align: top;\n",
       "    }\n",
       "\n",
       "    .dataframe thead th {\n",
       "        text-align: right;\n",
       "    }\n",
       "</style>\n",
       "<table border=\"1\" class=\"dataframe\">\n",
       "  <thead>\n",
       "    <tr style=\"text-align: right;\">\n",
       "      <th></th>\n",
       "      <th>Item_code</th>\n",
       "      <th>Manufacturer_implementation</th>\n",
       "    </tr>\n",
       "  </thead>\n",
       "  <tbody>\n",
       "    <tr>\n",
       "      <th>0</th>\n",
       "      <td>3HAC16831-1</td>\n",
       "      <td>ABB Limited</td>\n",
       "    </tr>\n",
       "    <tr>\n",
       "      <th>1</th>\n",
       "      <td>535-4346</td>\n",
       "      <td>ABB Limited</td>\n",
       "    </tr>\n",
       "    <tr>\n",
       "      <th>2</th>\n",
       "      <td>DSQC-136</td>\n",
       "      <td>ABB Limited</td>\n",
       "    </tr>\n",
       "    <tr>\n",
       "      <th>3</th>\n",
       "      <td>S830C-D125</td>\n",
       "      <td>ABB Limited</td>\n",
       "    </tr>\n",
       "    <tr>\n",
       "      <th>4</th>\n",
       "      <td>5354302</td>\n",
       "      <td>ABB Limited</td>\n",
       "    </tr>\n",
       "  </tbody>\n",
       "</table>\n",
       "</div>"
      ],
      "text/plain": [
       "     Item_code Manufacturer_implementation\n",
       "0  3HAC16831-1                 ABB Limited\n",
       "1     535-4346                 ABB Limited\n",
       "2     DSQC-136                 ABB Limited\n",
       "3   S830C-D125                 ABB Limited\n",
       "4      5354302                 ABB Limited"
      ]
     },
     "execution_count": 6,
     "metadata": {},
     "output_type": "execute_result"
    }
   ],
   "source": [
    "df = pd.read_excel(\"RR Inchinnan SnapPart Dataload v3.xlsx\")\n",
    "df_client = df[[\"Item  Code\", \"Manufacturer\"]]\n",
    "df_client.rename(columns = {\"Item  Code\" : \"Item_code\", \"Manufacturer\" : \"Manufacturer_implementation\"}, inplace= True)\n",
    "df_client.head()"
   ]
  },
  {
   "cell_type": "code",
   "execution_count": 23,
   "metadata": {},
   "outputs": [
    {
     "name": "stderr",
     "output_type": "stream",
     "text": [
      "C:\\Users\\misol\\AppData\\Local\\Temp\\ipykernel_10000\\3940454555.py:4: SettingWithCopyWarning: \n",
      "A value is trying to be set on a copy of a slice from a DataFrame\n",
      "\n",
      "See the caveats in the documentation: https://pandas.pydata.org/pandas-docs/stable/user_guide/indexing.html#returning-a-view-versus-a-copy\n",
      "  df_implementation.rename(columns = {\"Item  Code\" : \"Item_code\", \"Manufacturer\" : \"Manufacturer_implementation\"}, inplace= True)\n"
     ]
    },
    {
     "data": {
      "text/html": [
       "<div>\n",
       "<style scoped>\n",
       "    .dataframe tbody tr th:only-of-type {\n",
       "        vertical-align: middle;\n",
       "    }\n",
       "\n",
       "    .dataframe tbody tr th {\n",
       "        vertical-align: top;\n",
       "    }\n",
       "\n",
       "    .dataframe thead th {\n",
       "        text-align: right;\n",
       "    }\n",
       "</style>\n",
       "<table border=\"1\" class=\"dataframe\">\n",
       "  <thead>\n",
       "    <tr style=\"text-align: right;\">\n",
       "      <th></th>\n",
       "      <th>Item_code</th>\n",
       "      <th>Manufacturer_implementation</th>\n",
       "    </tr>\n",
       "  </thead>\n",
       "  <tbody>\n",
       "    <tr>\n",
       "      <th>0</th>\n",
       "      <td>CRR-016098</td>\n",
       "      <td>HYD022</td>\n",
       "    </tr>\n",
       "    <tr>\n",
       "      <th>1</th>\n",
       "      <td>CRR-016106</td>\n",
       "      <td>HYD022</td>\n",
       "    </tr>\n",
       "    <tr>\n",
       "      <th>2</th>\n",
       "      <td>CRR-016030</td>\n",
       "      <td>HYD022</td>\n",
       "    </tr>\n",
       "    <tr>\n",
       "      <th>3</th>\n",
       "      <td>ZSACCTX</td>\n",
       "      <td>CAMS CARDIFF</td>\n",
       "    </tr>\n",
       "    <tr>\n",
       "      <th>4</th>\n",
       "      <td>ZCK-Y13</td>\n",
       "      <td>TBD - To Be Determined</td>\n",
       "    </tr>\n",
       "  </tbody>\n",
       "</table>\n",
       "</div>"
      ],
      "text/plain": [
       "    Item_code Manufacturer_implementation\n",
       "0  CRR-016098                      HYD022\n",
       "1  CRR-016106                      HYD022\n",
       "2  CRR-016030                      HYD022\n",
       "3     ZSACCTX                CAMS CARDIFF\n",
       "4     ZCK-Y13      TBD - To Be Determined"
      ]
     },
     "execution_count": 23,
     "metadata": {},
     "output_type": "execute_result"
    }
   ],
   "source": [
    "implementation_input_file = input('name of the implementation input file :')\n",
    "df = pd.read_excel(f\"{implementation_input_file}.xlsx\")\n",
    "df_implementation = df[[\"Item  Code\", \"Manufacturer\"]]\n",
    "df_implementation.rename(columns = {\"Item  Code\" : \"Item_code\", \"Manufacturer\" : \"Manufacturer_implementation\"}, inplace= True)\n",
    "df_implementation.head()"
   ]
  },
  {
   "cell_type": "code",
   "execution_count": 24,
   "metadata": {},
   "outputs": [],
   "source": [
    "df_merged = pd.merge(df_client, df_implementation, on=\"Item_code\", how=\"inner\")\n",
    "\n",
    "df_merged = df_merged.sort_values(by=\"Item_code\")\n",
    "df_merged.dropna(inplace=True)\n",
    "df_merged['match'] = 0"
   ]
  },
  {
   "cell_type": "code",
   "execution_count": 25,
   "metadata": {},
   "outputs": [
    {
     "data": {
      "text/html": [
       "<div>\n",
       "<style scoped>\n",
       "    .dataframe tbody tr th:only-of-type {\n",
       "        vertical-align: middle;\n",
       "    }\n",
       "\n",
       "    .dataframe tbody tr th {\n",
       "        vertical-align: top;\n",
       "    }\n",
       "\n",
       "    .dataframe thead th {\n",
       "        text-align: right;\n",
       "    }\n",
       "</style>\n",
       "<table border=\"1\" class=\"dataframe\">\n",
       "  <thead>\n",
       "    <tr style=\"text-align: right;\">\n",
       "      <th></th>\n",
       "      <th>Item_code</th>\n",
       "      <th>Manufacturer_client</th>\n",
       "      <th>Manufacturer_implementation</th>\n",
       "      <th>match</th>\n",
       "      <th>Manufacturer_client_clean</th>\n",
       "      <th>Manufacturer_implementation_clean</th>\n",
       "    </tr>\n",
       "  </thead>\n",
       "  <tbody>\n",
       "    <tr>\n",
       "      <th>1</th>\n",
       "      <td>#234 9972-1100</td>\n",
       "      <td>RETECH</td>\n",
       "      <td>RETECH</td>\n",
       "      <td>1</td>\n",
       "      <td>[RETECH]</td>\n",
       "      <td>[RETECH]</td>\n",
       "    </tr>\n",
       "    <tr>\n",
       "      <th>2</th>\n",
       "      <td>#237 #720</td>\n",
       "      <td>TBD - To Be Determined</td>\n",
       "      <td>TBD - To Be Determined</td>\n",
       "      <td>1</td>\n",
       "      <td>[TBD, TO, BE, DETERMINED]</td>\n",
       "      <td>[TBD, TO, BE, DETERMINED]</td>\n",
       "    </tr>\n",
       "    <tr>\n",
       "      <th>3</th>\n",
       "      <td>#242-9972-630</td>\n",
       "      <td>RETECH</td>\n",
       "      <td>RETECH</td>\n",
       "      <td>1</td>\n",
       "      <td>[RETECH]</td>\n",
       "      <td>[RETECH]</td>\n",
       "    </tr>\n",
       "    <tr>\n",
       "      <th>4</th>\n",
       "      <td>#250  2130-BNA-250</td>\n",
       "      <td>RETECH</td>\n",
       "      <td>RETECH</td>\n",
       "      <td>1</td>\n",
       "      <td>[RETECH]</td>\n",
       "      <td>[RETECH]</td>\n",
       "    </tr>\n",
       "    <tr>\n",
       "      <th>5</th>\n",
       "      <td>#341</td>\n",
       "      <td>RETECH</td>\n",
       "      <td>RETECH</td>\n",
       "      <td>1</td>\n",
       "      <td>[RETECH]</td>\n",
       "      <td>[RETECH]</td>\n",
       "    </tr>\n",
       "  </tbody>\n",
       "</table>\n",
       "</div>"
      ],
      "text/plain": [
       "            Item_code     Manufacturer_client Manufacturer_implementation  \\\n",
       "1      #234 9972-1100                  RETECH                      RETECH   \n",
       "2           #237 #720  TBD - To Be Determined      TBD - To Be Determined   \n",
       "3       #242-9972-630                  RETECH                      RETECH   \n",
       "4  #250  2130-BNA-250                  RETECH                      RETECH   \n",
       "5                #341                  RETECH                      RETECH   \n",
       "\n",
       "   match  Manufacturer_client_clean Manufacturer_implementation_clean  \n",
       "1      1                   [RETECH]                          [RETECH]  \n",
       "2      1  [TBD, TO, BE, DETERMINED]         [TBD, TO, BE, DETERMINED]  \n",
       "3      1                   [RETECH]                          [RETECH]  \n",
       "4      1                   [RETECH]                          [RETECH]  \n",
       "5      1                   [RETECH]                          [RETECH]  "
      ]
     },
     "execution_count": 25,
     "metadata": {},
     "output_type": "execute_result"
    }
   ],
   "source": [
    "df_merged.loc[:, 'Manufacturer_client'] = df_merged['Manufacturer_client']\n",
    "df_merged.loc[:, 'Manufacturer_client_clean'] = df_merged['Manufacturer_client'].apply(clean_special_and_split)\n",
    "\n",
    "df_merged.loc[:, 'Manufacturer_implementation'] = df_merged['Manufacturer_implementation']\n",
    "df_merged.loc[:, 'Manufacturer_implementation_clean'] = df_merged['Manufacturer_implementation'].apply(clean_special_and_split)\n",
    "\n",
    "df_merged['match'] = df_merged.apply(compare_cells, axis=1)\n",
    "\n",
    "df_merged.head()"
   ]
  },
  {
   "cell_type": "code",
   "execution_count": 26,
   "metadata": {},
   "outputs": [],
   "source": [
    "df_merged.to_excel(f'RRB_match_{today_date}.xlsx', sheet_name='Feuille1', index=False)"
   ]
  }
 ],
 "metadata": {
  "kernelspec": {
   "display_name": "base",
   "language": "python",
   "name": "python3"
  },
  "language_info": {
   "codemirror_mode": {
    "name": "ipython",
    "version": 3
   },
   "file_extension": ".py",
   "mimetype": "text/x-python",
   "name": "python",
   "nbconvert_exporter": "python",
   "pygments_lexer": "ipython3",
   "version": "3.11.5"
  }
 },
 "nbformat": 4,
 "nbformat_minor": 2
}
